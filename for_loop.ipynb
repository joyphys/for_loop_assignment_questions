{
 "cells": [
  {
   "cell_type": "markdown",
   "id": "8c643fbe",
   "metadata": {},
   "source": [
    "# For loop assignment questions"
   ]
  },
  {
   "cell_type": "markdown",
   "id": "8be2df8b",
   "metadata": {},
   "source": [
    "## Basic level"
   ]
  },
  {
   "cell_type": "code",
   "execution_count": 1,
   "id": "7d746881",
   "metadata": {},
   "outputs": [
    {
     "name": "stdout",
     "output_type": "stream",
     "text": [
      "1\n",
      "2\n",
      "3\n",
      "4\n",
      "5\n",
      "6\n",
      "7\n",
      "8\n",
      "9\n",
      "10\n"
     ]
    }
   ],
   "source": [
    "#1. Write a Python program to print the numbers from 1 to 10 using a `for` loop.\n",
    "\n",
    "for i in range(1,11):\n",
    "    print(i)"
   ]
  },
  {
   "cell_type": "code",
   "execution_count": 2,
   "id": "20b61a3c",
   "metadata": {},
   "outputs": [
    {
     "name": "stdout",
     "output_type": "stream",
     "text": [
      "55\n"
     ]
    }
   ],
   "source": [
    "#2. Create a program that calculates the sum of all numbers in a list using a `for` loop.\n",
    "\n",
    "lst=[1,2,3,4,5,6,7,8,9,10]\n",
    "\n",
    "sum=0\n",
    "for i in range(len(lst)):\n",
    "    sum=sum+lst[i]\n",
    "print(sum)"
   ]
  },
  {
   "cell_type": "code",
   "execution_count": 12,
   "id": "1bc1e449",
   "metadata": {},
   "outputs": [
    {
     "name": "stdout",
     "output_type": "stream",
     "text": [
      "Enter a string yuio\n",
      "o\n",
      "i\n",
      "u\n",
      "y\n"
     ]
    }
   ],
   "source": [
    "#3. Write a program to print the characters of a string in reverse order using a `for` loop.\n",
    "\n",
    "string=input(\"Enter a string \")\n",
    "\n",
    "for i in range(len(string),0,-1):\n",
    "    print(string[i-1])"
   ]
  },
  {
   "cell_type": "code",
   "execution_count": 15,
   "id": "7e5a981c",
   "metadata": {},
   "outputs": [
    {
     "name": "stdout",
     "output_type": "stream",
     "text": [
      "Enter a number 3\n",
      "6\n"
     ]
    }
   ],
   "source": [
    "#4. Develop a program that finds the factorial of a given number using a `for` loop.\n",
    "\n",
    "n=int(input(\"Enter a number \"))\n",
    "\n",
    "output=1\n",
    "for i in range(n,1,-1):\n",
    "    output=output*i\n",
    "print(output)"
   ]
  },
  {
   "cell_type": "code",
   "execution_count": 20,
   "id": "998f426c",
   "metadata": {},
   "outputs": [
    {
     "name": "stdout",
     "output_type": "stream",
     "text": [
      "entyer a number 13\n",
      "13 1 13\n",
      "13 2 26\n",
      "13 3 39\n",
      "13 4 52\n",
      "13 5 65\n",
      "13 6 78\n",
      "13 7 91\n",
      "13 8 104\n",
      "13 9 117\n",
      "13 10 130\n"
     ]
    }
   ],
   "source": [
    "#5. Create a program to print the multiplication table of a given number using a `for` loop.\n",
    "\n",
    "n=int(input(\"entyer a number \"))\n",
    "\n",
    "for i in range(1,11):\n",
    "    print(n, i, n*i)\n",
    "    "
   ]
  },
  {
   "cell_type": "code",
   "execution_count": 23,
   "id": "ace13e9a",
   "metadata": {},
   "outputs": [
    {
     "name": "stdout",
     "output_type": "stream",
     "text": [
      "The number of even numbers=  5\n",
      "The number of odd numbers=  7\n"
     ]
    }
   ],
   "source": [
    "#6. Write a program that counts the number of even and odd numbers in a list using a `for` loop.\n",
    "\n",
    "l=[1,12,13,55,64,89,58,1231,455,648,895,444]\n",
    "\n",
    "counter_even=0\n",
    "counter_odd=0\n",
    "for i in l:\n",
    "    if i%2==0:\n",
    "        counter_even+=1\n",
    "    else:\n",
    "         counter_odd+=1\n",
    "print(\"The number of even numbers= \", counter_even)\n",
    "print(\"The number of odd numbers= \", counter_odd)\n",
    "\n",
    "        \n",
    "        \n",
    "    "
   ]
  },
  {
   "cell_type": "code",
   "execution_count": 26,
   "id": "9a09c0aa",
   "metadata": {},
   "outputs": [
    {
     "name": "stdout",
     "output_type": "stream",
     "text": [
      "number= 1 , it's square= 1\n",
      "number= 2 , it's square= 4\n",
      "number= 3 , it's square= 9\n",
      "number= 4 , it's square= 16\n",
      "number= 5 , it's square= 25\n"
     ]
    }
   ],
   "source": [
    "#7. Develop a program that prints the squares of numbers from 1 to 5 using a `for` loop.\n",
    "\n",
    "for i in range(1,6):\n",
    "    print(\"number=\",i, \",\",\"it's square=\",i*i)"
   ]
  },
  {
   "cell_type": "code",
   "execution_count": 27,
   "id": "174a7d5e",
   "metadata": {},
   "outputs": [
    {
     "name": "stdout",
     "output_type": "stream",
     "text": [
      "Enter a string tyutioiu\n",
      "8\n"
     ]
    }
   ],
   "source": [
    "#8. Create a program to find the length of a string without using the `len()` function.\n",
    "\n",
    "string=input(\"Enter a string \")\n",
    "\n",
    "counter=0\n",
    "for i in string:\n",
    "    counter+=1\n",
    "print(counter)\n",
    "    "
   ]
  },
  {
   "cell_type": "code",
   "execution_count": 29,
   "id": "dbdc942c",
   "metadata": {},
   "outputs": [
    {
     "name": "stdout",
     "output_type": "stream",
     "text": [
      "3.0\n"
     ]
    }
   ],
   "source": [
    "#9. Write a program that calculates the average of a list of numbers using a `for` loop.\n",
    "\n",
    "l=[1,2,3,4,5]\n",
    "\n",
    "sum=0\n",
    "counter=0\n",
    "for i in l:\n",
    "    counter+=1\n",
    "    sum+=i\n",
    "print(sum/counter)"
   ]
  },
  {
   "cell_type": "code",
   "execution_count": 33,
   "id": "c884d850",
   "metadata": {},
   "outputs": [
    {
     "name": "stdout",
     "output_type": "stream",
     "text": [
      "Enter the value of n 10\n",
      "1\n",
      "1\n",
      "2\n",
      "3\n",
      "5\n",
      "8\n",
      "13\n",
      "21\n",
      "34\n",
      "55\n"
     ]
    }
   ],
   "source": [
    "#10. Develop a program that prints the first `n` Fibonacci numbers using a `for` loop.\n",
    "\n",
    "n=int(input(\"Enter the value of n \"))\n",
    "\n",
    "z=1\n",
    "x=0\n",
    "y=1\n",
    "\n",
    "for i in range(1,n+1):\n",
    "    print(z)\n",
    "    z=x+y\n",
    "    \n",
    "    x=y\n",
    "    y=z\n",
    " "
   ]
  },
  {
   "cell_type": "markdown",
   "id": "f8a1a6eb",
   "metadata": {},
   "source": [
    "## Intermediate Level:\n"
   ]
  },
  {
   "cell_type": "code",
   "execution_count": 87,
   "id": "2d58ea96",
   "metadata": {},
   "outputs": [
    {
     "name": "stdout",
     "output_type": "stream",
     "text": [
      "the list contains duplicates\n"
     ]
    }
   ],
   "source": [
    "#11. Write a program to check if a given list contains any duplicates using a `for` loop.\n",
    "\n",
    "l=[1,2,3,4,5,2,\"a\",\"b\",2,\"c\",\"a\",4]\n",
    "#l=[1,2,3,4]\n",
    "\n",
    "flag=0\n",
    "for i in range(len(l)-1):\n",
    "    for j in range(i+1,len(l)):\n",
    "        if l[i]==l[j]:    \n",
    "            #print(\"the list contains duplicates\")\n",
    "            flag=1\n",
    "            \n",
    "if flag==1:\n",
    "    print(\"the list contains duplicates\")\n",
    "else:\n",
    "     print(\"the list contains no duplicates\")\n",
    "    \n",
    "            \n",
    "        \n",
    "       "
   ]
  },
  {
   "cell_type": "code",
   "execution_count": 86,
   "id": "8274993a",
   "metadata": {},
   "outputs": [
    {
     "name": "stdout",
     "output_type": "stream",
     "text": [
      "enter a range of number 100\n",
      "2\n",
      "3\n",
      "5\n",
      "7\n",
      "11\n",
      "13\n",
      "17\n",
      "19\n",
      "23\n",
      "29\n",
      "31\n",
      "37\n",
      "41\n",
      "43\n",
      "47\n",
      "53\n",
      "59\n",
      "61\n",
      "67\n",
      "71\n",
      "73\n",
      "79\n",
      "83\n",
      "89\n",
      "97\n"
     ]
    }
   ],
   "source": [
    " \n",
    "    \n",
    "\n",
    "#12. Create a program that prints the prime numbers in a given range using a `for` loop.\n",
    "\n",
    "n=int(input(\"enter a range of number \"))\n",
    "\n",
    "\n",
    "for i in range(2,n+1):\n",
    "    flag=0\n",
    "    for j in range(i-1,1,-1):\n",
    "        if i%j==0:\n",
    "            flag=1\n",
    "    if flag==0:\n",
    "        print(i)\n",
    "       "
   ]
  },
  {
   "cell_type": "code",
   "execution_count": 90,
   "id": "843eec80",
   "metadata": {},
   "outputs": [
    {
     "name": "stdout",
     "output_type": "stream",
     "text": [
      "Enter a string vowel\n",
      "2\n"
     ]
    }
   ],
   "source": [
    "\n",
    "#13. Develop a program that counts the number of vowels in a string using a `for` loop.\n",
    "\n",
    "string=input(\"Enter a string \")\n",
    "\n",
    "vowels=['a','e','i','o','u','A','E','I','O','U']\n",
    "\n",
    "c=0\n",
    "\n",
    "for i in string:\n",
    "    if i in vowels:\n",
    "        c+=1\n",
    "print(c)\n"
   ]
  },
  {
   "cell_type": "code",
   "execution_count": 115,
   "id": "fa287f96",
   "metadata": {},
   "outputs": [
    {
     "name": "stdout",
     "output_type": "stream",
     "text": [
      "The maximum element is  800\n"
     ]
    }
   ],
   "source": [
    "#14. Write a program to find the maximum element in a 2D list using a nested `for` loop.\n",
    "l=[[1,2,3],[4,55,6],[7,800,9]]\n",
    "\n",
    "\n",
    "t=l[0][0]\n",
    "#print(t)\n",
    "\n",
    "for i in range(len(l)):\n",
    "    for j in range(len(l[i])):\n",
    "        if l[i][j]>=t:\n",
    "            t=l[i][j]\n",
    "            \n",
    "print(\"The maximum element is \", t)"
   ]
  },
  {
   "cell_type": "code",
   "execution_count": null,
   "id": "a95c7813",
   "metadata": {},
   "outputs": [],
   "source": []
  },
  {
   "cell_type": "code",
   "execution_count": 159,
   "id": "f0376da1",
   "metadata": {},
   "outputs": [
    {
     "name": "stdout",
     "output_type": "stream",
     "text": [
      "[1, 2, 3, 3, 4, 5, 2, 'a', 'b', 2, 'c', 'a', 4]\n",
      "3\n",
      "None\n"
     ]
    }
   ],
   "source": [
    "\n",
    "#15. Create a program that removes all occurrences of a specific element from a list using a `for` loop.\n",
    "\n",
    "\n",
    "l=[1,2,3,3,4,5,2,\"a\",\"b\",2,\"c\",\"a\",4]\n",
    "print(l)\n",
    "l1=l\n",
    "\n",
    "for i in range(len(l)-1):\n",
    "    #print(l[i])\n",
    "    if l[i]==3:\n",
    "        print(l[i])\n",
    "        l1=l.remove(3)   \n",
    "     #   l=l.remove(l[i])\n",
    "print(l1)\n",
    "    "
   ]
  },
  {
   "cell_type": "code",
   "execution_count": 168,
   "id": "40a0ca32",
   "metadata": {},
   "outputs": [
    {
     "name": "stdout",
     "output_type": "stream",
     "text": [
      "1 1 1\n",
      "1 2 2\n",
      "1 3 3\n",
      "1 4 4\n",
      "1 5 5\n",
      "1 6 6\n",
      "1 7 7\n",
      "1 8 8\n",
      "1 9 9\n",
      "1 10 10\n",
      "\n",
      "2 1 2\n",
      "2 2 4\n",
      "2 3 6\n",
      "2 4 8\n",
      "2 5 10\n",
      "2 6 12\n",
      "2 7 14\n",
      "2 8 16\n",
      "2 9 18\n",
      "2 10 20\n",
      "\n",
      "3 1 3\n",
      "3 2 6\n",
      "3 3 9\n",
      "3 4 12\n",
      "3 5 15\n",
      "3 6 18\n",
      "3 7 21\n",
      "3 8 24\n",
      "3 9 27\n",
      "3 10 30\n",
      "\n",
      "4 1 4\n",
      "4 2 8\n",
      "4 3 12\n",
      "4 4 16\n",
      "4 5 20\n",
      "4 6 24\n",
      "4 7 28\n",
      "4 8 32\n",
      "4 9 36\n",
      "4 10 40\n",
      "\n",
      "5 1 5\n",
      "5 2 10\n",
      "5 3 15\n",
      "5 4 20\n",
      "5 5 25\n",
      "5 6 30\n",
      "5 7 35\n",
      "5 8 40\n",
      "5 9 45\n",
      "5 10 50\n",
      "\n"
     ]
    }
   ],
   "source": [
    "#16. Develop a program that generates a multiplication table for numbers from 1 to 5 using a nested `for` loop.\n",
    "\n",
    "for i in range(1,6):\n",
    "    for j in range(1,11):\n",
    "        print(i,j,i*j)\n",
    "    print()"
   ]
  },
  {
   "cell_type": "code",
   "execution_count": 180,
   "id": "559c3574",
   "metadata": {},
   "outputs": [
    {
     "name": "stdout",
     "output_type": "stream",
     "text": [
      "0.0\n",
      "27.0\n",
      "29.0\n",
      "32.0\n",
      "34.0\n",
      "38.0\n",
      "38.0\n",
      "39.0\n",
      "100.0\n"
     ]
    }
   ],
   "source": [
    "#17. Write a program that converts a list of Fahrenheit temperatures to Celsius using a `for` loop.\n",
    "\n",
    "l=[32,80,84,90,94,100,101,102,212]\n",
    "\n",
    "for i in l:\n",
    "    c=(i-32)*(5/9)\n",
    "    print(round(c,0))"
   ]
  },
  {
   "cell_type": "code",
   "execution_count": 177,
   "id": "b45913a8",
   "metadata": {},
   "outputs": [
    {
     "data": {
      "text/plain": [
       "0.5555555555555556"
      ]
     },
     "execution_count": 177,
     "metadata": {},
     "output_type": "execute_result"
    }
   ],
   "source": [
    "5/9"
   ]
  },
  {
   "cell_type": "code",
   "execution_count": 182,
   "id": "1c754c4d",
   "metadata": {},
   "outputs": [
    {
     "name": "stdout",
     "output_type": "stream",
     "text": [
      "2\n",
      "3\n",
      "a\n",
      "d\n"
     ]
    }
   ],
   "source": [
    "#18. Create a program to print the common elements from two lists using a `for` loop.\n",
    "\n",
    "l1=[1,2,3,4,5,'a','b','c','d']\n",
    "l2=[2,3,'a','d']\n",
    "\n",
    "\n",
    "for i in l1:\n",
    "    for j in l2:\n",
    "        if i==j:\n",
    "            print(i)"
   ]
  },
  {
   "cell_type": "code",
   "execution_count": 186,
   "id": "7bcb2678",
   "metadata": {},
   "outputs": [
    {
     "name": "stdout",
     "output_type": "stream",
     "text": [
      "Enter an integer7\n",
      "\n",
      "* \n",
      "* * \n",
      "* * * \n",
      "* * * * \n",
      "* * * * * \n",
      "* * * * * * \n",
      "* * * * * * * \n"
     ]
    }
   ],
   "source": [
    "#19. Develop a program that prints the pattern of right-angled triangles using a `for` loop. Use ‘*’ to draw the\n",
    "#pattern\n",
    "\n",
    "n=int(input(\"Enter an integer\"))\n",
    "\n",
    "for i in range(n+1):\n",
    "    for j in range(i):\n",
    "        print('*',end= ' ')\n",
    "    print()"
   ]
  },
  {
   "cell_type": "code",
   "execution_count": 223,
   "id": "5c1ee5ee",
   "metadata": {},
   "outputs": [
    {
     "name": "stdout",
     "output_type": "stream",
     "text": [
      "Enter the first number 126\n",
      "Enter the second number 108\n",
      "18\n"
     ]
    }
   ],
   "source": [
    "#20. Write a program to find the greatest common divisor (GCD) of two numbers using a `for` loop.\n",
    "\n",
    "n1=int(input(\"Enter the first number \"))\n",
    "n2=int(input(\"Enter the second number \"))\n",
    "m=0\n",
    "\n",
    "if n1>n2:\n",
    "    m=n2\n",
    "    \n",
    "else:\n",
    "    m=n1\n",
    "#print(m)\n",
    "\n",
    "\n",
    "\n",
    "    \n",
    "t1=1\n",
    "t2=t1\n",
    "#print(t1,t2)\n",
    "\n",
    "for i in range(1,m+1):\n",
    "    #print(i)\n",
    "    if n2%i==0:\n",
    "        if n1%i==0:\n",
    "            t2=i\n",
    "    #print(t2)\n",
    "    if t2>t1:\n",
    "        t1=t2\n",
    "print(t1)"
   ]
  },
  {
   "cell_type": "markdown",
   "id": "37ce243f",
   "metadata": {},
   "source": [
    "## Advanced Level:"
   ]
  },
  {
   "cell_type": "code",
   "execution_count": null,
   "id": "664ffd93",
   "metadata": {},
   "outputs": [],
   "source": [
    "21. Create a program that calculates the sum of the digits of numbers in a list using a list comprehension.\n",
    "22. Write a program to find the prime factors of a given number using a `for` loop and list comprehension.\n",
    "23. Develop a program that extracts unique elements from a list and stores them in a new list using a list\n",
    "comprehension.\n",
    "24. Create a program that generates a list of all palindromic numbers up to a specified limit using a list\n",
    "comprehension.\n",
    "25. Write a program to flatten a nested list using list comprehension.\n",
    "26. Develop a program that computes the sum of even and odd numbers in a list separately using list\n",
    "comprehension.\n",
    "27. Create a program that generates a list of squares of odd numbers between 1 and 10 using list\n",
    "comprehension.\n",
    "28. Write a program that combines two lists into a dictionary using list comprehension.\n",
    "29. Develop a program that extracts the vowels from a string and stores them in a list using list comprehension.\n",
    "30. Create a program that removes all non-numeric characters from a list of strings using list comprehension."
   ]
  },
  {
   "cell_type": "code",
   "execution_count": 48,
   "id": "8d42f5ed",
   "metadata": {},
   "outputs": [],
   "source": [
    "#21. Create a program that calculates the sum of\n",
    "#the digits of numbers in a list using a list comprehension."
   ]
  },
  {
   "cell_type": "code",
   "execution_count": 61,
   "id": "a253960a",
   "metadata": {},
   "outputs": [
    {
     "data": {
      "text/plain": [
       "54"
      ]
     },
     "execution_count": 61,
     "metadata": {},
     "output_type": "execute_result"
    }
   ],
   "source": [
    "l=[11,22,321,414,556,656]\n",
    "s=0\n",
    "s=sum([int(j)  for i in range(len(l)) for j in str(l[i]) ])\n",
    "s"
   ]
  },
  {
   "cell_type": "code",
   "execution_count": null,
   "id": "8d3da9f2",
   "metadata": {},
   "outputs": [],
   "source": [
    "#22. Write a program to find the prime factors of a given number using a\n",
    "#`for` loop and list comprehension.\n"
   ]
  },
  {
   "cell_type": "code",
   "execution_count": null,
   "id": "1f8bcfd2",
   "metadata": {},
   "outputs": [],
   "source": [
    "n=126\n",
    "\n",
    "l=[]\n",
    "\n",
    "for i in range(2,n):\n",
    "    for j in range(2,i):  #checks if i is prime number\n",
    "        if i%j==0:\n",
    "            break\n",
    "    else:\n",
    "        if n%i==0:                 #checks if i is a divisor\n",
    "            l.append(i)\n",
    "print(set(l))\n",
    "           "
   ]
  },
  {
   "cell_type": "code",
   "execution_count": 3,
   "id": "79977e33",
   "metadata": {},
   "outputs": [
    {
     "name": "stdout",
     "output_type": "stream",
     "text": [
      "Enter a number: 126\n",
      "Prime factors of 126: {2, 3, 7}\n"
     ]
    }
   ],
   "source": [
    "def prime_factors(n):\n",
    "    l=[]\n",
    "    divisor=2\n",
    "    while n>1:\n",
    "        if n%divisor==0:\n",
    "            l.append(divisor)\n",
    "            n=n/divisor\n",
    "        else:\n",
    "            divisor=divisor+1\n",
    "            \n",
    "    return l\n",
    "\n",
    "n = int(input(\"Enter a number: \"))\n",
    "\n",
    "if n < 2:\n",
    "    print(\"Prime factors are not defined for numbers less than 2.\")\n",
    "else:\n",
    "    factors = prime_factors(n)\n",
    "    print(f\"Prime factors of {n}: {set(factors)}\")\n",
    "        "
   ]
  },
  {
   "cell_type": "code",
   "execution_count": 4,
   "id": "72d71291",
   "metadata": {},
   "outputs": [
    {
     "name": "stdout",
     "output_type": "stream",
     "text": [
      "Enter a number 126\n",
      " prime factros of 126 are [2, 3, 7]\n"
     ]
    }
   ],
   "source": [
    "def prime_factors(n):\n",
    "    \n",
    "    prime_factors=[divisor for divisor in range(2,n) if n%divisor==0 and all(divisor%i!=0 for i in range(2,divisor)) ]\n",
    "    return prime_factors\n",
    "\n",
    "n=int(input(\"Enter a number \"))\n",
    "\n",
    "if n<2:\n",
    "    print(\"no\")\n",
    "else:\n",
    "    factors=prime_factors(n)\n",
    "    print(f\" prime factros of {n} are {factors}\")"
   ]
  },
  {
   "cell_type": "code",
   "execution_count": null,
   "id": "e7d36900",
   "metadata": {},
   "outputs": [],
   "source": [
    "#23. Develop a program that extracts unique elements from a list and stores them in a new list using \n",
    "#a list comprehension.\n"
   ]
  },
  {
   "cell_type": "code",
   "execution_count": null,
   "id": "21b8eda0",
   "metadata": {},
   "outputs": [],
   "source": [
    "#finding out the repeating elements\n",
    "\n",
    "l=[1,2,3,4,4,'a','c','a',4]\n",
    "l1=[]\n",
    "for i in range(len(l)):\n",
    "    for j in range(i+1,len(l)):\n",
    "        if l[i]==l[j]:\n",
    "            l1.append(l[i])\n",
    "print(set(l1)"
   ]
  },
  {
   "cell_type": "code",
   "execution_count": 7,
   "id": "fff3ef42",
   "metadata": {},
   "outputs": [
    {
     "name": "stdout",
     "output_type": "stream",
     "text": [
      "[1, 2, 3, 'c']\n"
     ]
    }
   ],
   "source": [
    "#list of non-repeating elements\n",
    "\n",
    "l=[1,2,3,4,4,'a','c','a',4]\n",
    "l1=[]\n",
    "for i in range(len(l)):\n",
    "    for j in range(1,len(l)):\n",
    "        if l[i]==l[j] and i!=j:\n",
    "            break\n",
    "    else:\n",
    "         l1.append(l[i])\n",
    "  \n",
    "\n",
    "print(l1)\n"
   ]
  },
  {
   "cell_type": "code",
   "execution_count": 6,
   "id": "91b403d5",
   "metadata": {},
   "outputs": [
    {
     "name": "stdout",
     "output_type": "stream",
     "text": [
      "[1, 2, 3, 'c']\n"
     ]
    }
   ],
   "source": [
    "#list of non-repeating elements\n",
    "\n",
    "\n",
    "l=[1,2,3,4,4,'a','c','a',4]\n",
    "\n",
    "l1=[i for i in l if l.count(i)==1]\n",
    "\n",
    "print(l1)"
   ]
  },
  {
   "cell_type": "code",
   "execution_count": 17,
   "id": "3c38bec4",
   "metadata": {},
   "outputs": [
    {
     "data": {
      "text/plain": [
       "[1, 2, 3, 4, 5, 6]"
      ]
     },
     "execution_count": 17,
     "metadata": {},
     "output_type": "execute_result"
    }
   ],
   "source": [
    "#23. Develop a program that extracts unique elements from a list and stores them in a new list using \n",
    "#a list comprehension.\n",
    "\n",
    "l = [1, 2, 2, 3, 4, 4, 5, 6, 6]\n",
    "l1=[]\n",
    "[l1.append(i) for i in l if i not in l1]\n",
    "l1\n"
   ]
  },
  {
   "cell_type": "code",
   "execution_count": 18,
   "id": "ea433fb9",
   "metadata": {},
   "outputs": [],
   "source": [
    "#24. Create a program that generates a list of all palindromic numbers up to a specified limit\n",
    "#using a list comprehension."
   ]
  },
  {
   "cell_type": "code",
   "execution_count": 19,
   "id": "16376c46",
   "metadata": {},
   "outputs": [
    {
     "name": "stdout",
     "output_type": "stream",
     "text": [
      "Enter a number 123321\n",
      "yes, a palindrom\n"
     ]
    }
   ],
   "source": [
    "#palindrom numbers\n",
    "\n",
    "n=int(input(\"Enter a number \"))\n",
    "m=str(n)\n",
    "flag=0\n",
    "for i in range((len(m))):\n",
    "    if m[i]!=m[len(m)-1-i]:\n",
    "        \n",
    "        #print(i,m[i])\n",
    "        print(\"not a palindrom\")\n",
    "        break\n",
    "else:\n",
    "    print(\"yes, a palindrom\")\n",
    " \n",
    "    "
   ]
  },
  {
   "cell_type": "code",
   "execution_count": 21,
   "id": "78a8b568",
   "metadata": {},
   "outputs": [
    {
     "name": "stdout",
     "output_type": "stream",
     "text": [
      "Enter a number 123321\n",
      "yes, a palindrom\n"
     ]
    }
   ],
   "source": [
    "#palindrom numbers\n",
    "\n",
    "n=int(input(\"Enter a number \"))\n",
    "m=str(n)\n",
    "flag=0\n",
    "\n",
    "if m!=m[::-1]:\n",
    "    print(\"not a palindrom\")\n",
    "    \n",
    "else:\n",
    "    print(\"yes, a palindrom\")"
   ]
  },
  {
   "cell_type": "code",
   "execution_count": 22,
   "id": "5433a542",
   "metadata": {},
   "outputs": [
    {
     "data": {
      "text/plain": [
       "[5005,\n",
       " 5115,\n",
       " 5225,\n",
       " 5335,\n",
       " 5445,\n",
       " 5555,\n",
       " 5665,\n",
       " 5775,\n",
       " 5885,\n",
       " 5995,\n",
       " 6006,\n",
       " 6116,\n",
       " 6226,\n",
       " 6336,\n",
       " 6446,\n",
       " 6556,\n",
       " 6666,\n",
       " 6776,\n",
       " 6886,\n",
       " 6996,\n",
       " 7007,\n",
       " 7117,\n",
       " 7227,\n",
       " 7337,\n",
       " 7447,\n",
       " 7557,\n",
       " 7667,\n",
       " 7777,\n",
       " 7887,\n",
       " 7997,\n",
       " 8008,\n",
       " 8118,\n",
       " 8228,\n",
       " 8338,\n",
       " 8448,\n",
       " 8558,\n",
       " 8668,\n",
       " 8778,\n",
       " 8888,\n",
       " 8998,\n",
       " 9009,\n",
       " 9119,\n",
       " 9229,\n",
       " 9339,\n",
       " 9449,\n",
       " 9559,\n",
       " 9669,\n",
       " 9779,\n",
       " 9889,\n",
       " 9999]"
      ]
     },
     "execution_count": 22,
     "metadata": {},
     "output_type": "execute_result"
    }
   ],
   "source": [
    "limit_up=10000\n",
    "limit_down=5000\n",
    "\n",
    "x=[n for n in range(limit_down,limit_up+1) if str(n)==str(n)[::-1]]\n",
    "x"
   ]
  },
  {
   "cell_type": "code",
   "execution_count": 23,
   "id": "bd0a527e",
   "metadata": {},
   "outputs": [],
   "source": [
    "#25 Write a program to flatten a nested list using list comprehension.\n",
    "\n",
    "\n"
   ]
  },
  {
   "cell_type": "code",
   "execution_count": 24,
   "id": "1b3c052a",
   "metadata": {},
   "outputs": [
    {
     "name": "stdout",
     "output_type": "stream",
     "text": [
      "3\n"
     ]
    }
   ],
   "source": [
    "#nested list\n",
    "\n",
    "l=[[1,2,3],[4,5,6],[7,8,9]]\n",
    "l1=[]\n",
    "print(l[0][2])"
   ]
  },
  {
   "cell_type": "code",
   "execution_count": 25,
   "id": "157f0fb2",
   "metadata": {},
   "outputs": [
    {
     "name": "stdout",
     "output_type": "stream",
     "text": [
      "[1, 2, 3, 4, 5, 6, 7, 8, 9]\n"
     ]
    }
   ],
   "source": [
    "#to flatten a nested list\n",
    "\n",
    "for i in range(len(l)):\n",
    "    for j in range(len(l[i])):\n",
    "        l1.append(l[i][j])\n",
    "print(l1)"
   ]
  },
  {
   "cell_type": "code",
   "execution_count": 26,
   "id": "a1a5e4ba",
   "metadata": {},
   "outputs": [
    {
     "data": {
      "text/plain": [
       "[1, 2, 3, 4, 5, 6, 7, 8, 9]"
      ]
     },
     "execution_count": 26,
     "metadata": {},
     "output_type": "execute_result"
    }
   ],
   "source": [
    "l1=[l[i][j] for i in range(len(l)) for  j in range(len(l[i])) ]\n",
    "l1"
   ]
  },
  {
   "cell_type": "code",
   "execution_count": 27,
   "id": "710535e5",
   "metadata": {},
   "outputs": [],
   "source": [
    "#26. Develop a program that computes the sum of even and odd numbers in a list separately using list\n",
    "#comprehension."
   ]
  },
  {
   "cell_type": "code",
   "execution_count": 28,
   "id": "5f840a07",
   "metadata": {},
   "outputs": [],
   "source": [
    "l=[1,2,3,4,5,6,7,8,9]"
   ]
  },
  {
   "cell_type": "code",
   "execution_count": 35,
   "id": "ffe02088",
   "metadata": {},
   "outputs": [
    {
     "name": "stdout",
     "output_type": "stream",
     "text": [
      "sum of even numbers= 20 ,  sum of odd numbers= 25\n"
     ]
    }
   ],
   "source": [
    "s1=0\n",
    "s2=0\n",
    "for i in l:\n",
    "    if i%2==0:\n",
    "        s1=s1+i\n",
    "    else:\n",
    "        s2=s2+i\n",
    "print(\"sum of even numbers=\", s1,\",\",\" sum of odd numbers=\",s2)"
   ]
  },
  {
   "cell_type": "code",
   "execution_count": 37,
   "id": "3fe6ae9f",
   "metadata": {},
   "outputs": [
    {
     "name": "stdout",
     "output_type": "stream",
     "text": [
      "sum of even numbers= 20, sum of odd numbers= 25\n"
     ]
    }
   ],
   "source": [
    "even_num=[x for x in l if x%2==0]\n",
    "odd_num=[x for x in l if x%2!=0]\n",
    "print(f\"sum of even numbers= {sum(even_num)}, sum of odd numbers= {sum(odd_num)}\")"
   ]
  },
  {
   "cell_type": "code",
   "execution_count": 40,
   "id": "de86f96b",
   "metadata": {},
   "outputs": [
    {
     "name": "stdout",
     "output_type": "stream",
     "text": [
      "[1, 9, 25, 49, 81]\n"
     ]
    }
   ],
   "source": [
    "#27. Create a program that generates a list of squares of odd numbers between 1 and 10 using list\n",
    "#comprehension.\n",
    "\n",
    "x=[i**2 for i in range(11) if i%2!=0 ]\n",
    "print(x)"
   ]
  },
  {
   "cell_type": "code",
   "execution_count": 41,
   "id": "d25e548b",
   "metadata": {},
   "outputs": [],
   "source": [
    "#28. Write a program that combines two lists into a dictionary using list comprehension."
   ]
  },
  {
   "cell_type": "code",
   "execution_count": 42,
   "id": "a3c96bd9",
   "metadata": {},
   "outputs": [
    {
     "data": {
      "text/plain": [
       "[{'k1': 1}, {'k2': 2}]"
      ]
     },
     "execution_count": 42,
     "metadata": {},
     "output_type": "execute_result"
    }
   ],
   "source": [
    "l1=['k1','k2']\n",
    "l2=[1,2]\n",
    "\n",
    "x=[ {l1[i]:l2[i]} for i in range(len(l1))]\n",
    "\n",
    "x"
   ]
  },
  {
   "cell_type": "code",
   "execution_count": 43,
   "id": "47a64231",
   "metadata": {},
   "outputs": [
    {
     "data": {
      "text/plain": [
       "dict"
      ]
     },
     "execution_count": 43,
     "metadata": {},
     "output_type": "execute_result"
    }
   ],
   "source": [
    "x={4:5}\n",
    "type(x)"
   ]
  },
  {
   "cell_type": "code",
   "execution_count": 44,
   "id": "9e825f36",
   "metadata": {},
   "outputs": [],
   "source": [
    "#29. Develop a program that extracts the vowels from a string \n",
    "#and stores them in a list using list comprehension."
   ]
  },
  {
   "cell_type": "code",
   "execution_count": 45,
   "id": "4bf46e15",
   "metadata": {},
   "outputs": [
    {
     "data": {
      "text/plain": [
       "['u', 'a', 'e']"
      ]
     },
     "execution_count": 45,
     "metadata": {},
     "output_type": "execute_result"
    }
   ],
   "source": [
    "vowel=['a','e','i','o','u','A','E','I','O','U']\n",
    "string=\"lkudfsldfghae\"\n",
    "l=[x for x in string if x in vowel]\n",
    "l"
   ]
  },
  {
   "cell_type": "code",
   "execution_count": 46,
   "id": "8b24adca",
   "metadata": {},
   "outputs": [],
   "source": [
    "#30. Create a program that removes all \n",
    "#non-numeric characters from a list of strings using list comprehension."
   ]
  },
  {
   "cell_type": "code",
   "execution_count": 47,
   "id": "bfca378b",
   "metadata": {},
   "outputs": [
    {
     "data": {
      "text/plain": [
       "[1, 2, 3]"
      ]
     },
     "execution_count": 47,
     "metadata": {},
     "output_type": "execute_result"
    }
   ],
   "source": [
    "numeric=[1,2,3,4,5,6,7,8,9]\n",
    "\n",
    "l=[1,'a',2,'b',3,'c']\n",
    "\n",
    "l1=[x for x in l if x in numeric]\n",
    "l1"
   ]
  },
  {
   "cell_type": "markdown",
   "id": "914291f2",
   "metadata": {},
   "source": [
    "## Challenge level :"
   ]
  },
  {
   "cell_type": "code",
   "execution_count": 1,
   "id": "4d2a7dc1",
   "metadata": {},
   "outputs": [],
   "source": [
    "#31. Write a program to generate a list of prime numbers using the Sieve of Eratosthenes algorithm\n",
    "#and list comprehension."
   ]
  },
  {
   "cell_type": "code",
   "execution_count": 45,
   "id": "17f3f37e",
   "metadata": {},
   "outputs": [
    {
     "name": "stdout",
     "output_type": "stream",
     "text": [
      "[2, 3, 5, 7, 11, 13, 17, 19, 23, 29, 31, 37, 41, 43, 47, 53]\n"
     ]
    }
   ],
   "source": [
    "limit=55\n",
    "is_prime=[True]*(limit+1)\n",
    "is_prime[0]=is_prime[1]=False\n",
    "\n",
    "p=2\n",
    "while p**2<=limit:\n",
    "    if is_prime[p]:\n",
    "        for i in range(p**2,limit+1,p):\n",
    "            is_prime[i]=False\n",
    "    p+=1\n",
    "    \n",
    "primes=[x for x in range(2,limit+1) if is_prime[x]]\n",
    "\n",
    "print(primes)\n",
    "        \n",
    "    \n",
    "    "
   ]
  },
  {
   "cell_type": "code",
   "execution_count": 46,
   "id": "82505fd3",
   "metadata": {},
   "outputs": [
    {
     "name": "stdout",
     "output_type": "stream",
     "text": [
      "Enter a limit 56\n",
      "the list of prime numbers upto 56 is [2, 3, 5, 7, 11, 13, 17, 19, 23, 29, 31, 37, 41, 43, 47, 53]\n"
     ]
    }
   ],
   "source": [
    "#sieve of eratosthenes is an ancient algorithm to identify and list down all \n",
    "#prime numebrs upto a chosen  limit\n",
    "#it keeps marking each of the  numbers which are multiples of a prime number as not a prime number\n",
    "#upto square of the prime number. Then increments the prime number by one\n",
    "\n",
    "def sieve_of_eratosthenes(limit):\n",
    "    #Initialize a list of Boolean values, where each index represents a number\n",
    "    is_prime=[True]*(limit+1)\n",
    "    is_prime[0]=is_prime[1]=False\n",
    "    # 0 and 1 are not prime numbers\n",
    "    \n",
    "    #Loop begins with the smallest prime number 2\n",
    "    p=2\n",
    "    \n",
    "    while p**2<=limit:\n",
    "        if is_prime[p]:\n",
    "            #if p has been marked azs prime, all its multiples are non-prime\n",
    "            for i in range(p**2,limit+1,p):\n",
    "                is_prime[i]=False\n",
    "                \n",
    "        #increments p by one\n",
    "        p+=1\n",
    "    \n",
    "    #lists all prime numbers using list comprehensaion \n",
    "    primes=[x for x in range(2,limit+1) if is_prime[x]]\n",
    "    #print(primes)\n",
    "    return primes\n",
    "\n",
    "\n",
    "#input the limit from user end\n",
    "limit=int(input(\"Enter a limit \"))\n",
    "\n",
    "#print(sieve_of_eratosthenes(limit))\n",
    "\n",
    "#generate a lost of all prime numbers upto the given limit by calling the function\n",
    "primes_list=sieve_of_eratosthenes(limit)\n",
    "\n",
    "#printing the final output \n",
    "print(f\"the list of prime numbers upto {limit} is {primes_list}\")"
   ]
  },
  {
   "cell_type": "code",
   "execution_count": 21,
   "id": "a3776417",
   "metadata": {},
   "outputs": [
    {
     "data": {
      "text/plain": [
       "1.0"
      ]
     },
     "execution_count": 21,
     "metadata": {},
     "output_type": "execute_result"
    }
   ],
   "source": [
    "import math \n",
    "math.sin(90*(math.pi/180))"
   ]
  },
  {
   "cell_type": "code",
   "execution_count": 2,
   "id": "d9946ac7",
   "metadata": {},
   "outputs": [],
   "source": [
    "#32. Create a program that generates a list of all Pythagorean triplets up to\n",
    "#a specified limit using list comprehension."
   ]
  },
  {
   "cell_type": "code",
   "execution_count": 7,
   "id": "cf8c87a0",
   "metadata": {},
   "outputs": [
    {
     "name": "stdout",
     "output_type": "stream",
     "text": [
      "[(3, 4, 5), (5, 12, 13), (6, 8, 10), (7, 24, 25), (8, 15, 17), (9, 12, 15), (10, 24, 26), (12, 16, 20), (15, 20, 25), (18, 24, 30), (20, 21, 29)]\n"
     ]
    }
   ],
   "source": [
    "def is_pythagorean_triplet(a,b,c):\n",
    "    return a**2+b**2==c**2\n",
    "\n",
    "\n",
    "limit=30\n",
    "\n",
    "pythagorean_triplet=[(a,b,c) for a in range(1,limit+1) \n",
    "                     for b in range(a,limit+1)  \n",
    "                     for c in range(b,limit+1)  \n",
    "                    if is_pythagorian_triplet(a,b,c)]\n",
    "\n",
    "print(pythagorean_triplet)"
   ]
  },
  {
   "cell_type": "code",
   "execution_count": 2,
   "id": "4ba43708",
   "metadata": {},
   "outputs": [
    {
     "name": "stdout",
     "output_type": "stream",
     "text": [
      "Enter a limit 30\n",
      "Pythagorean triplets upto 30 are:\n",
      "(3, 4, 5)\n",
      "(5, 12, 13)\n",
      "(6, 8, 10)\n",
      "(7, 24, 25)\n",
      "(8, 15, 17)\n",
      "(9, 12, 15)\n",
      "(10, 24, 26)\n",
      "(12, 16, 20)\n",
      "(15, 20, 25)\n",
      "(18, 24, 30)\n",
      "(20, 21, 29)\n"
     ]
    }
   ],
   "source": [
    "#Function that checks if the triplet is a pythagorean triplet\n",
    "def is_pythagorean_triplet(a,b,c):\n",
    "    return a**2+b**2==c**2\n",
    "\n",
    "#Enter a specified limit\n",
    "limit=int(input(\"Enter a limit \"))\n",
    "\n",
    "#listing down the pythagorean triplets upto the specified limit using list comprehension\n",
    "#and calling the function\n",
    "\n",
    "pythagorean_triplets=[ (a,b,c) for a in range(1,limit+1)\n",
    "                     for b in range(a,limit+1)\n",
    "                     for c in range(b,limit+1)\n",
    "                     if is_pythagorean_triplet(a,b,c)]\n",
    "\n",
    "#printing the final output\n",
    "print(f\"Pythagorean triplets upto {limit} are:\")\n",
    "for triplet in pythagorean_triplets:\n",
    "    print(triplet)"
   ]
  },
  {
   "cell_type": "code",
   "execution_count": 29,
   "id": "b4bc2b8a",
   "metadata": {},
   "outputs": [],
   "source": [
    "#33. Develop a program that generates a list of all possible combinations of\n",
    "#two lists using list comprehension."
   ]
  },
  {
   "cell_type": "code",
   "execution_count": 31,
   "id": "1dccaa25",
   "metadata": {},
   "outputs": [
    {
     "data": {
      "text/plain": [
       "[(1, 'a'),\n",
       " (1, 'b'),\n",
       " (1, 'c'),\n",
       " (2, 'a'),\n",
       " (2, 'b'),\n",
       " (2, 'c'),\n",
       " (3, 'a'),\n",
       " (3, 'b'),\n",
       " (3, 'c'),\n",
       " (4, 'a'),\n",
       " (4, 'b'),\n",
       " (4, 'c')]"
      ]
     },
     "execution_count": 31,
     "metadata": {},
     "output_type": "execute_result"
    }
   ],
   "source": [
    "l1=[1,2,3,4]\n",
    "l2=['a','b','c']\n",
    "\n",
    "l=[(i,j) for i in l1 for j in l2]\n",
    "l"
   ]
  },
  {
   "cell_type": "code",
   "execution_count": 32,
   "id": "4c3084fe",
   "metadata": {},
   "outputs": [],
   "source": [
    "#34. Write a program that calculates the mean, median, and mode of a list of numbers using list\n",
    "#comprehension."
   ]
  },
  {
   "cell_type": "code",
   "execution_count": 76,
   "id": "1bad7de3",
   "metadata": {},
   "outputs": [
    {
     "name": "stdout",
     "output_type": "stream",
     "text": [
      "83 16\n",
      "[1, 2, 2, 3, 3, 4, 5, 5, 6, 6, 7, 7, 7, 8, 8, 9]\n",
      "Mean :5.1875\n",
      "Median :5\n",
      "Mode :[7]\n"
     ]
    }
   ],
   "source": [
    "l=[1,2,3,4,5,6,7,8,9,2,3,5,6,7,7,8]\n",
    "\n",
    "#Mean\n",
    "print(sum(l),len(l))\n",
    "mean=sum(l)/len(l)\n",
    "\n",
    "#Median\n",
    "sorted_list=sorted(l)\n",
    "print(sorted_list)\n",
    "n=len(sorted_list)\n",
    "median=sorted_list[n//2] if n%2!=0 else (sorted_list[n//2]+sorted_list[n//2-1])//2\n",
    "        \n",
    "#Mode\n",
    "count_num={num:l.count(num)  for num in l}\n",
    "#print(count_num)\n",
    "mode=[key for key,value in count_num.items() if value==max(count_num.values())]\n",
    "\n",
    "print(f\"Mean :{mean}\")\n",
    "print(f\"Median :{median}\")\n",
    "print(f\"Mode :{mode}\")"
   ]
  },
  {
   "cell_type": "code",
   "execution_count": null,
   "id": "a22a7de9",
   "metadata": {},
   "outputs": [],
   "source": [
    "#35. Create a program that generates Pascal's triangle up to a specified number of rows using list\n",
    "#comprehension."
   ]
  },
  {
   "cell_type": "code",
   "execution_count": 4,
   "id": "7f6d2783",
   "metadata": {},
   "outputs": [
    {
     "data": {
      "text/plain": [
       "'could not do it'"
      ]
     },
     "execution_count": 4,
     "metadata": {},
     "output_type": "execute_result"
    }
   ],
   "source": [
    "\"could not do it\""
   ]
  },
  {
   "cell_type": "code",
   "execution_count": 2,
   "id": "a41badc9",
   "metadata": {},
   "outputs": [],
   "source": [
    "\n",
    "#36 Develop a program that calculates the sum of the digits of a factorial \n",
    "#of numbers from 1 to 5 using list comprehension."
   ]
  },
  {
   "cell_type": "code",
   "execution_count": 4,
   "id": "05df5dc8",
   "metadata": {},
   "outputs": [
    {
     "name": "stdout",
     "output_type": "stream",
     "text": [
      "Enter a limit 5\n",
      "number= 1 , factorial= 1 , sum of digits in factorial= 1\n",
      "number= 2 , factorial= 2 , sum of digits in factorial= 2\n",
      "number= 3 , factorial= 6 , sum of digits in factorial= 6\n",
      "number= 4 , factorial= 24 , sum of digits in factorial= 6\n",
      "number= 5 , factorial= 120 , sum of digits in factorial= 3\n"
     ]
    }
   ],
   "source": [
    "n=int(input(\"Enter a limit \"))\n",
    "\n",
    "#initialize \n",
    "s=[1]\n",
    "for i in range(1,n):\n",
    "    s.append(1)\n",
    "#print(s)\n",
    "\n",
    "#compute factorial of numbers till n\n",
    "for i in range(0,n):   \n",
    "    for j in range(1,i+2):\n",
    "        s[i]=s[i]*j\n",
    "    \n",
    "#for i in range(len(s)):\n",
    "#               print(\"number=\",i+1,\"factorial=\",s[i])\n",
    "    \n",
    "#print(s)\n",
    "\n",
    "#compute sum of sigits in the factorial \n",
    "l=[]\n",
    "for  i in s:                   \n",
    "    total=0\n",
    "    for j in str(i):\n",
    "        total=total+int(j)\n",
    "    #print(total)\n",
    "    l.append(total)\n",
    "\n",
    "#printing the final result\n",
    "for i in range(len(s)):\n",
    "               print(\"number=\",i+1,\", factorial=\",s[i],\", sum of digits in factorial=\",l[i])\n",
    "    "
   ]
  },
  {
   "cell_type": "code",
   "execution_count": 6,
   "id": "b9540c08",
   "metadata": {},
   "outputs": [
    {
     "name": "stdout",
     "output_type": "stream",
     "text": [
      "factorial of 1 is 1, and the sum of the digits is 1\n",
      "factorial of 2 is 2, and the sum of the digits is 2\n",
      "factorial of 3 is 6, and the sum of the digits is 6\n",
      "factorial of 4 is 24, and the sum of the digits is 6\n",
      "factorial of 5 is 120, and the sum of the digits is 3\n"
     ]
    }
   ],
   "source": [
    "# Function to calculate the factorial of a number\n",
    "def factorial(n):\n",
    "    s=1\n",
    "    for i in range(1,n+1):\n",
    "        s=s*i\n",
    "    return s\n",
    "\n",
    "#Build a list of factorials of numbers from 1 to 5\n",
    "factorials=[factorial(n) for n in range(1,6)]\n",
    "#print(factorials)\n",
    "\n",
    "#Compute sum of digits in each factorial in the list of factorials calculated in the previous step\n",
    "sum_digits=[sum(int(digit) for digit in str(factorial)) for factorial in l]\n",
    "#print(sum_digits)\n",
    "\n",
    "\n",
    "\n",
    "#printing the finakl result\n",
    "for i,factorial in enumerate(factorials):\n",
    "    print(f\"factorial of {i+1} is {factorial}, and the sum of the digits is {sum_digits[i]}\")\n",
    "    \n"
   ]
  },
  {
   "cell_type": "code",
   "execution_count": 7,
   "id": "f99691fe",
   "metadata": {},
   "outputs": [
    {
     "name": "stdout",
     "output_type": "stream",
     "text": [
      "the sum of digits of factorial of 1 is 1\n",
      "the sum of digits of factorial of 2 is 2\n",
      "the sum of digits of factorial of 3 is 6\n",
      "the sum of digits of factorial of 4 is 6\n",
      "the sum of digits of factorial of 5 is 3\n"
     ]
    }
   ],
   "source": [
    "# Function to calculate the factorial of a number\n",
    "def factorial(n):\n",
    "    s=1\n",
    "    for i in range(1,n+1):\n",
    "        s=s*i\n",
    "    return s\n",
    "\n",
    "\n",
    "#Compute sum of digits in  the factorials of numbers from 1 to 5\n",
    "\n",
    "\n",
    "sum_digits=[sum(int(digit) for digit in str(factorial(n))) for  n in range(1,6)]\n",
    "#print(sum_digits)\n",
    "\n",
    "#printing the finakl result\n",
    "for i in range(0,5):\n",
    "    print(f\"the sum of digits of factorial of {i+1} is {sum_digits[i]}\")"
   ]
  },
  {
   "cell_type": "code",
   "execution_count": 8,
   "id": "741a0ab9",
   "metadata": {},
   "outputs": [
    {
     "name": "stdout",
     "output_type": "stream",
     "text": [
      "[(0, 1), (1, 2), (2, 3), (3, 4), (4, 'a'), (5, 'b')]\n",
      "0 1\n",
      "1 2\n",
      "2 3\n",
      "3 4\n",
      "4 a\n",
      "5 b\n"
     ]
    }
   ],
   "source": [
    "#enumerate \n",
    "\n",
    "l=[1,2,3,4,'a','b']\n",
    "x=list(enumerate(l))\n",
    "print(x)\n",
    "\n",
    "for i,j in enumerate(l):\n",
    "    print(i,j)"
   ]
  },
  {
   "cell_type": "code",
   "execution_count": 9,
   "id": "55b28d77",
   "metadata": {},
   "outputs": [],
   "source": [
    "#37. Write a program that finds the longest word in a sentence using list comprehension."
   ]
  },
  {
   "cell_type": "code",
   "execution_count": 15,
   "id": "5f3bf632",
   "metadata": {},
   "outputs": [
    {
     "name": "stdout",
     "output_type": "stream",
     "text": [
      "Type a sentence : Rohan is an energetic boy\n",
      "words in the sentence=  ('Rohan', 'is', 'an', 'energetic', 'boy')\n",
      "longest word= energetic , length= 9\n"
     ]
    }
   ],
   "source": [
    "sentence=input(\"Type a sentence : \")\n",
    "words=sentence.split()\n",
    "print(\"words in the sentence= \",tuple(words))\n",
    "\n",
    "t=0\n",
    "t1=0\n",
    "for word in words:\n",
    "    if len(word)>t:\n",
    "        t=len(word)\n",
    "        t1=word\n",
    "print(\"longest word=\", t1, \",\",\"length=\",t)\n",
    " \n"
   ]
  },
  {
   "cell_type": "code",
   "execution_count": 21,
   "id": "e5608c07",
   "metadata": {},
   "outputs": [
    {
     "name": "stdout",
     "output_type": "stream",
     "text": [
      "Type a sentence : birds are flying\n",
      "words in the sentence=  ('birds', 'are', 'flying')\n",
      "longest word in the sentence is :  ['flying']\n"
     ]
    }
   ],
   "source": [
    "sentence=input(\"Type a sentence : \")\n",
    "words=sentence.split()\n",
    "print(\"words in the sentence= \",tuple(words))\n",
    "\n",
    "l=[word for word in words if len(word)==max(len(word) for word in words) ]\n",
    "print(\"longest word in the sentence is : \", l )\n",
    " "
   ]
  },
  {
   "cell_type": "code",
   "execution_count": 22,
   "id": "5dda9bb6",
   "metadata": {},
   "outputs": [],
   "source": [
    "#38. Create a program that filters a list of strings to include only those with more \n",
    "#than three vowels using list comprehension."
   ]
  },
  {
   "cell_type": "code",
   "execution_count": 23,
   "id": "606e603e",
   "metadata": {},
   "outputs": [
    {
     "name": "stdout",
     "output_type": "stream",
     "text": [
      "['abcdeio', 'hijoue']\n"
     ]
    }
   ],
   "source": [
    "vowels=['a','e','i','o','u','A','E','I','O','U']\n",
    "\n",
    "lst=[\"abcdeio\",\"bcdaie\",\"efg\",\"hijoue\"]\n",
    "\n",
    "l=[]\n",
    "for i in lst:\n",
    "    c=0\n",
    "    for j in i:\n",
    "        if j in vowels:\n",
    "            c=c+1\n",
    "    if c>3:\n",
    "        l.append(i)\n",
    "print(l)"
   ]
  },
  {
   "cell_type": "code",
   "execution_count": 24,
   "id": "1c02a657",
   "metadata": {},
   "outputs": [
    {
     "data": {
      "text/plain": [
       "['abcdeio', 'hijoue']"
      ]
     },
     "execution_count": 24,
     "metadata": {},
     "output_type": "execute_result"
    }
   ],
   "source": [
    "vowels=['a','e','i','o','u','A','E','I','O','U']\n",
    "\n",
    "lst=[\"abcdeio\",\"bcdaie\",\"efg\",\"hijoue\"]\n",
    "     \n",
    "def count_vowels(string):\n",
    "    c=0\n",
    "    for j in string:\n",
    "        if j in vowels:\n",
    "            c=c+1\n",
    "    return c\n",
    "    \n",
    "\n",
    "    \n",
    "l=[string for string in lst if count_vowels(string)>3]\n",
    "l"
   ]
  },
  {
   "cell_type": "code",
   "execution_count": 25,
   "id": "3e077f03",
   "metadata": {},
   "outputs": [],
   "source": [
    "#39. Develop a program that calculates the sum of the digits of numbers from 1 to 1000 using list\n",
    "#comprehension."
   ]
  },
  {
   "cell_type": "code",
   "execution_count": 26,
   "id": "5227c535",
   "metadata": {},
   "outputs": [
    {
     "data": {
      "text/plain": [
       "13501"
      ]
     },
     "execution_count": 26,
     "metadata": {},
     "output_type": "execute_result"
    }
   ],
   "source": [
    "def sum_digits(n):\n",
    "    s=0\n",
    "    for i in str(n):\n",
    "        s=s+int(i)\n",
    "    return s\n",
    "\n",
    "s1=sum([sum_digits(n) for n in range(1,1001)])\n",
    "s1\n",
    "     "
   ]
  },
  {
   "cell_type": "code",
   "execution_count": 27,
   "id": "73a42579",
   "metadata": {},
   "outputs": [],
   "source": [
    "#40. Write a program that generates a list of prime palindromic numbers using list comprehension.\\"
   ]
  },
  {
   "cell_type": "code",
   "execution_count": 28,
   "id": "7c4108f0",
   "metadata": {},
   "outputs": [
    {
     "data": {
      "text/plain": [
       "[11, 101, 131, 151, 181, 191, 313, 353, 373, 383, 727, 757, 787, 797, 919, 929]"
      ]
     },
     "execution_count": 28,
     "metadata": {},
     "output_type": "execute_result"
    }
   ],
   "source": [
    "def is_prime(n):\n",
    "    for i in range(2,n):\n",
    "        if n%i==0:\n",
    "            return False\n",
    "    else:\n",
    "        return True\n",
    "    \n",
    "limit=1000   \n",
    "l=[n for n in range(1,limit) if is_prime(n) and str(n)==str(n)[::-1] and len(str(n))>1]\n",
    "l"
   ]
  },
  {
   "cell_type": "code",
   "execution_count": null,
   "id": "f939e293",
   "metadata": {},
   "outputs": [],
   "source": []
  }
 ],
 "metadata": {
  "kernelspec": {
   "display_name": "Python 3 (ipykernel)",
   "language": "python",
   "name": "python3"
  },
  "language_info": {
   "codemirror_mode": {
    "name": "ipython",
    "version": 3
   },
   "file_extension": ".py",
   "mimetype": "text/x-python",
   "name": "python",
   "nbconvert_exporter": "python",
   "pygments_lexer": "ipython3",
   "version": "3.9.17"
  }
 },
 "nbformat": 4,
 "nbformat_minor": 5
}
